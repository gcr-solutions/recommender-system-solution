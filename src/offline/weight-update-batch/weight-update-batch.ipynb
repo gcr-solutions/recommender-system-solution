{
 "cells": [
  {
   "cell_type": "code",
   "execution_count": 2,
   "metadata": {},
   "outputs": [],
   "source": [
    "# portrait batch logic\n",
    "import argparse\n",
    "import logging\n",
    "import pickle\n",
    "import re\n",
    "import os\n",
    "\n",
    "import boto3\n",
    "import numpy as np\n",
    "import pandas as pd\n",
    "from tqdm import tqdm"
   ]
  },
  {
   "cell_type": "code",
   "execution_count": 6,
   "metadata": {},
   "outputs": [
    {
     "name": "stdout",
     "output_type": "stream",
     "text": [
      "bucket=aws-gcr-rs-sol-workshop-ap-southeast-1-522244679887\n",
      "prefix='sample-data'\n",
      "file preparation: download src key sample-data/system/action-data/action.csv to dst key info/action.csv\n",
      "file preparation: download src key sample-data/model/recall/recall_config.pickle to dst key info/recall_config.pickle\n",
      "config recall\n"
     ]
    }
   ],
   "source": [
    "########################################\n",
    "# 从s3同步数据\n",
    "########################################\n",
    "s3client = boto3.client('s3')\n",
    "\n",
    "\n",
    "def sync_s3(file_name_list, s3_folder, local_folder):\n",
    "    for f in file_name_list:\n",
    "        print(\"file preparation: download src key {} to dst key {}\".format(os.path.join(\n",
    "            s3_folder, f), os.path.join(local_folder, f)))\n",
    "        s3client.download_file(bucket, os.path.join(\n",
    "            s3_folder, f), os.path.join(local_folder, f))\n",
    "\n",
    "\n",
    "def write_to_s3(filename, bucket, key):\n",
    "    print(\"upload s3://{}/{}\".format(bucket, key))\n",
    "    with open(filename, 'rb') as f:  # Read in binary mode\n",
    "        # return s3client.upload_fileobj(f, bucket, key)\n",
    "        return s3client.put_object(\n",
    "            ACL='bucket-owner-full-control',\n",
    "            Bucket=bucket,\n",
    "            Key=key,\n",
    "            Body=f\n",
    "        )\n",
    "\n",
    "def write_str_to_s3(content, bucket, key):\n",
    "    print(\"write s3://{}/{}, content={}\".format(bucket, key, content))\n",
    "    s3client.put_object(Body=str(content).encode(\"utf8\"), Bucket=bucket, Key=key, ACL='bucket-owner-full-control')\n",
    "\n",
    "default_bucket = 'aws-gcr-rs-sol-workshop-ap-southeast-1-522244679887'\n",
    "default_prefix = 'sample-data'\n",
    "parser = argparse.ArgumentParser()\n",
    "parser.add_argument('--bucket', type=str, default=default_bucket)\n",
    "parser.add_argument('--prefix', type=str, default=default_prefix)\n",
    "args, _ = parser.parse_known_args()\n",
    "bucket = args.bucket\n",
    "prefix = args.prefix\n",
    "\n",
    "print(\"bucket={}\".format(bucket))\n",
    "print(\"prefix='{}'\".format(prefix))\n",
    "\n",
    "out_s3_path = \"s3://{}/{}/feature/content/inverted-list\".format(bucket, prefix)\n",
    "\n",
    "local_folder = 'info'\n",
    "if not os.path.exists(local_folder):\n",
    "    os.makedirs(local_folder)\n",
    "# 行为/物品数据同步\n",
    "file_name_list = ['action.csv']\n",
    "s3_folder = '{}/system/action-data'.format(prefix)\n",
    "sync_s3(file_name_list, s3_folder, local_folder)\n",
    "file_name_list = ['recall_config.pickle']\n",
    "s3_folder = '{}/model/recall'.format(prefix)\n",
    "sync_s3(file_name_list, s3_folder, local_folder)\n",
    "file_to_load = open(\"info/recall_config.pickle\", \"rb\")\n",
    "recall_config = pickle.load(file_to_load)\n",
    "print(\"config recall\")"
   ]
  },
  {
   "cell_type": "code",
   "execution_count": 5,
   "metadata": {},
   "outputs": [
    {
     "name": "stderr",
     "output_type": "stream",
     "text": [
      "/home/ec2-user/anaconda3/envs/pytorch_p36/lib/python3.6/site-packages/ipykernel_launcher.py:1: ParserWarning: Falling back to the 'python' engine because the 'c' engine does not support regex separators (separators > 1 char and different from '\\s+' are interpreted as regex); you can avoid this warning by specifying engine='python'.\n",
      "  \"\"\"Entry point for launching an IPython kernel.\n"
     ]
    }
   ],
   "source": [
    "df_filter_action = pd.read_csv('info/action.csv',sep='_!_',names=['user_id','news_id','timestamp','action_type','action'])"
   ]
  },
  {
   "cell_type": "code",
   "execution_count": 36,
   "metadata": {},
   "outputs": [
    {
     "data": {
      "text/html": [
       "<div>\n",
       "<style scoped>\n",
       "    .dataframe tbody tr th:only-of-type {\n",
       "        vertical-align: middle;\n",
       "    }\n",
       "\n",
       "    .dataframe tbody tr th {\n",
       "        vertical-align: top;\n",
       "    }\n",
       "\n",
       "    .dataframe thead th {\n",
       "        text-align: right;\n",
       "    }\n",
       "</style>\n",
       "<table border=\"1\" class=\"dataframe\">\n",
       "  <thead>\n",
       "    <tr style=\"text-align: right;\">\n",
       "      <th></th>\n",
       "      <th>user_id</th>\n",
       "      <th>news_id</th>\n",
       "      <th>timestamp</th>\n",
       "      <th>action_type</th>\n",
       "      <th>action</th>\n",
       "    </tr>\n",
       "  </thead>\n",
       "  <tbody>\n",
       "    <tr>\n",
       "      <th>0</th>\n",
       "      <td>52a23654-9dc3-11eb-a364-acde48001122</td>\n",
       "      <td>6552345461607367172</td>\n",
       "      <td>1618477588</td>\n",
       "      <td>1</td>\n",
       "      <td>0</td>\n",
       "    </tr>\n",
       "    <tr>\n",
       "      <th>1</th>\n",
       "      <td>52a23654-9dc3-11eb-a364-acde48001122</td>\n",
       "      <td>6552332581256299016</td>\n",
       "      <td>1618472565</td>\n",
       "      <td>1</td>\n",
       "      <td>0</td>\n",
       "    </tr>\n",
       "    <tr>\n",
       "      <th>2</th>\n",
       "      <td>52a23654-9dc3-11eb-a364-acde48001122</td>\n",
       "      <td>6552130363123040771</td>\n",
       "      <td>1618467016</td>\n",
       "      <td>1</td>\n",
       "      <td>0</td>\n",
       "    </tr>\n",
       "    <tr>\n",
       "      <th>3</th>\n",
       "      <td>52a23654-9dc3-11eb-a364-acde48001122</td>\n",
       "      <td>6475484594673025293</td>\n",
       "      <td>1618462187</td>\n",
       "      <td>1</td>\n",
       "      <td>1</td>\n",
       "    </tr>\n",
       "    <tr>\n",
       "      <th>4</th>\n",
       "      <td>52a238fc-9dc3-11eb-a364-acde48001122</td>\n",
       "      <td>6552277802022863374</td>\n",
       "      <td>1618468013</td>\n",
       "      <td>1</td>\n",
       "      <td>0</td>\n",
       "    </tr>\n",
       "  </tbody>\n",
       "</table>\n",
       "</div>"
      ],
      "text/plain": [
       "                                user_id              news_id   timestamp  \\\n",
       "0  52a23654-9dc3-11eb-a364-acde48001122  6552345461607367172  1618477588   \n",
       "1  52a23654-9dc3-11eb-a364-acde48001122  6552332581256299016  1618472565   \n",
       "2  52a23654-9dc3-11eb-a364-acde48001122  6552130363123040771  1618467016   \n",
       "3  52a23654-9dc3-11eb-a364-acde48001122  6475484594673025293  1618462187   \n",
       "4  52a238fc-9dc3-11eb-a364-acde48001122  6552277802022863374  1618468013   \n",
       "\n",
       "   action_type  action  \n",
       "0            1       0  \n",
       "1            1       0  \n",
       "2            1       0  \n",
       "3            1       1  \n",
       "4            1       0  "
      ]
     },
     "execution_count": 36,
     "metadata": {},
     "output_type": "execute_result"
    }
   ],
   "source": [
    "df_filter_action.head()"
   ]
  },
  {
   "cell_type": "code",
   "execution_count": 16,
   "metadata": {},
   "outputs": [],
   "source": [
    "recall_config = {}\n",
    "recall_config['mt_topn'] = {}\n",
    "recall_config['mt_topn']['type'] = 10\n",
    "recall_config['mt_topn']['keywords'] = 10\n",
    "recall_config['mt_topn']['entities'] = 10\n",
    "recall_config['mt_topn']['words'] = 10\n",
    "recall_config['mt_topn']['portrait_type'] = 10\n",
    "recall_config['mt_topn']['portrait_keywords'] = 10\n",
    "recall_config['pos_weights'] = {}\n",
    "recall_config['pos_weights']['type'] = {}\n",
    "recall_config['pos_weights']['type']['w'] = 0.5\n",
    "recall_config['pos_weights']['type']['b'] = 0.2\n",
    "recall_config['pos_weights']['keywords'] = {}\n",
    "recall_config['pos_weights']['keywords']['w'] = 0.5\n",
    "recall_config['pos_weights']['keywords']['b'] = 0.2\n",
    "recall_config['pos_weights']['entities'] = {}\n",
    "recall_config['pos_weights']['entities']['w'] = 0.5\n",
    "recall_config['pos_weights']['entities']['b'] = 0.2\n",
    "recall_config['pos_weights']['words'] = {}\n",
    "recall_config['pos_weights']['words']['w'] = 0.5\n",
    "recall_config['pos_weights']['words']['b'] = 0.2\n",
    "recall_config['pos_weights']['portrait_type'] = {}\n",
    "recall_config['pos_weights']['portrait_type']['w'] = 0.5\n",
    "recall_config['pos_weights']['portrait_type']['b'] = 0.2\n",
    "recall_config['pos_weights']['portrait_keywords'] = {}\n",
    "recall_config['pos_weights']['portrait_keywords']['w'] = 0.5\n",
    "recall_config['pos_weights']['portrait_keywords']['b'] = 0.2\n",
    "recall_config['mt_weights'] = {}\n",
    "recall_config['mt_weights']['type'] = 0.2\n",
    "recall_config['mt_weights']['keywords'] = 0.5\n",
    "recall_config['mt_weights']['entities'] = 1.0\n",
    "recall_config['mt_weights']['words'] = 0.1\n",
    "recall_config['mt_weights']['portrait_type'] = 0.2\n",
    "recall_config['mt_weights']['portrait_keywords'] = 0.8\n",
    "recall_config['pop_mt_list'] = ['type', 'keywords', 'entities', 'words']\n",
    "recall_config['portrait_mt_list'] = ['type', 'keywords']\n",
    "recall_config['merge_cnt'] = 100"
   ]
  },
  {
   "cell_type": "code",
   "execution_count": 17,
   "metadata": {},
   "outputs": [
    {
     "name": "stdout",
     "output_type": "stream",
     "text": [
      "upload s3://aws-gcr-rs-sol-workshop-ap-southeast-1-522244679887/sample-data/feature/content/inverted-list/recall_config.pickle\n"
     ]
    },
    {
     "data": {
      "text/plain": [
       "{'ResponseMetadata': {'RequestId': 'FXBJVP0E57BQ5WFD',\n",
       "  'HostId': 'fy94KiYATpiGyRS4BLelZljgiu/5W5Bw71EHZxvjTjtpPi5VKBxHXjB9PhFeG1/NGZkyn18RDvY=',\n",
       "  'HTTPStatusCode': 200,\n",
       "  'HTTPHeaders': {'x-amz-id-2': 'fy94KiYATpiGyRS4BLelZljgiu/5W5Bw71EHZxvjTjtpPi5VKBxHXjB9PhFeG1/NGZkyn18RDvY=',\n",
       "   'x-amz-request-id': 'FXBJVP0E57BQ5WFD',\n",
       "   'date': 'Mon, 19 Apr 2021 03:02:10 GMT',\n",
       "   'etag': '\"d4da78b65bd3fc273de5ff7ef5687b47\"',\n",
       "   'content-length': '0',\n",
       "   'server': 'AmazonS3'},\n",
       "  'RetryAttempts': 0},\n",
       " 'ETag': '\"d4da78b65bd3fc273de5ff7ef5687b47\"'}"
      ]
     },
     "execution_count": 17,
     "metadata": {},
     "output_type": "execute_result"
    }
   ],
   "source": [
    "# 存储recall的结果\n",
    "file_name = \"info/recall_config.pickle\"\n",
    "out_file = open(file_name, 'wb')\n",
    "pickle.dump(recall_config, out_file)\n",
    "out_file.close()\n",
    "\n",
    "write_to_s3(file_name,\n",
    "            bucket,\n",
    "            '{}/feature/content/inverted-list/recall_config.pickle'.format(prefix))"
   ]
  },
  {
   "cell_type": "code",
   "execution_count": 10,
   "metadata": {},
   "outputs": [
    {
     "name": "stdout",
     "output_type": "stream",
     "text": [
      "k mt_topn v {'type': 10, 'keywords': 10, 'entities': 10, 'words': 10}\n",
      "k pos_weights v {'type': {'w': 0.5, 'b': 0.2}, 'keywords': {'w': 0.5, 'b': 0.2}, 'entities': {'w': 0.5, 'b': 0.2}, 'words': {'w': 0.5, 'b': 0.2}, 'portrait_type': {'w': 0.5, 'b': 0.2}, 'portrait_keywords': {'w': 0.5, 'b': 0.2}}\n",
      "k mt_weights v {'type': 1.0, 'keywords': 1.0, 'entities': 1.0, 'words': 1.0, 'portrait_type': 1.0, 'portrait_keywords': 1.0}\n",
      "k pop_mt_list v ['type', 'keywords', 'entities', 'words']\n",
      "k portrait_mt_list v ['type', 'keywords']\n",
      "k merge_cnt v 100\n"
     ]
    }
   ],
   "source": [
    "n = 0\n",
    "for k, v in recall_config.items():\n",
    "    print(\"k {} v {}\".format(k,v))\n",
    "    if n > 10:\n",
    "        break\n",
    "    n = n + 1"
   ]
  },
  {
   "cell_type": "code",
   "execution_count": null,
   "metadata": {},
   "outputs": [],
   "source": [
    "# initial config\n"
   ]
  }
 ],
 "metadata": {
  "kernelspec": {
   "display_name": "Python [conda env:pytorch_p36]",
   "language": "python",
   "name": "conda-env-pytorch_p36-py"
  },
  "language_info": {
   "codemirror_mode": {
    "name": "ipython",
    "version": 3
   },
   "file_extension": ".py",
   "mimetype": "text/x-python",
   "name": "python",
   "nbconvert_exporter": "python",
   "pygments_lexer": "ipython3",
   "version": "3.6.10"
  }
 },
 "nbformat": 4,
 "nbformat_minor": 4
}
