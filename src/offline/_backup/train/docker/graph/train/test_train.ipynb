{
 "cells": [
  {
   "cell_type": "code",
   "execution_count": 1,
   "metadata": {},
   "outputs": [
    {
     "name": "stdout",
     "output_type": "stream",
     "text": [
      "AWS region:us-east-1\n"
     ]
    }
   ],
   "source": [
    "from sagemaker import get_execution_role\n",
    "import sagemaker\n",
    "import boto3\n",
    "from datetime import date\n",
    "\n",
    "session = boto3.session.Session()\n",
    "sagemaker_session = sagemaker.session.Session(boto_session=session)\n",
    "# #same function\n",
    "# sess = sage.Session()\n",
    "\n",
    "role = 'arn:aws:iam::002224604296:role/service-role/AmazonSageMaker-ExecutionRole-20200402T124851'\n",
    "aws_region = session.region_name\n",
    "print(f'AWS region:{aws_region}')"
   ]
  },
  {
   "cell_type": "code",
   "execution_count": 3,
   "metadata": {},
   "outputs": [
    {
     "name": "stdout",
     "output_type": "stream",
     "text": [
      "s3://sagemaker-us-east-1-002224604296/output\n"
     ]
    }
   ],
   "source": [
    "model_path = \"s3://{}/output\".format(sagemaker.Session().default_bucket())\n",
    "s3_model_url = model_path+'/sagemaker-recsys-graph-2020-11-17-03-15-32-694/'\n",
    "# #same function：\n",
    "# model_path = \"s3://{}/output\".format(sagemaker_session.default_bucket())\n",
    "print(model_path)"
   ]
  },
  {
   "cell_type": "code",
   "execution_count": 29,
   "metadata": {},
   "outputs": [],
   "source": [
    "dt = datetime.now()\n",
    "dd = \"{}-{}-{}-{}-{}-{}\".format(dt.year,dt.month,dt.day,dt.hour,dt.minute,dt.second)"
   ]
  },
  {
   "cell_type": "code",
   "execution_count": 30,
   "metadata": {},
   "outputs": [],
   "source": [
    "TrainJobName = 'recsys-graph-train-{}'.format(dd)\n",
    "training_image = '002224604296.dkr.ecr.us-east-1.amazonaws.com/sagemaker-recsys-graph-train'\n",
    "training_instance_type = 'ml.p2.xlarge'\n",
    "training_params = {\n",
    "    \"RoleArn\": role,\n",
    "    \"TrainingJobName\": TrainJobName,\n",
    "    \"AlgorithmSpecification\": {\n",
    "        \"TrainingImage\": training_image,\n",
    "        \"TrainingInputMode\": \"File\"\n",
    "    },\n",
    "    \"ResourceConfig\": {\n",
    "        \"InstanceCount\": 1,\n",
    "        \"InstanceType\": \"{}\".format(training_instance_type),\n",
    "        \"VolumeSizeInGB\": 1\n",
    "    },\n",
    "    \"InputDataConfig\": [\n",
    "        {\n",
    "            \"ChannelName\": \"training\",\n",
    "            \"DataSource\": {\n",
    "                \"S3DataSource\": {\n",
    "                    \"S3DataType\": \"S3Prefix\",\n",
    "                    \"S3Uri\": \"{}\".format(s3_model_url),\n",
    "                    \"S3DataDistributionType\": \"FullyReplicated\"\n",
    "                }\n",
    "            },\n",
    "            \"CompressionType\": \"None\",\n",
    "            \"RecordWrapperType\": \"None\"\n",
    "        }\n",
    "    ],\n",
    "    \"OutputDataConfig\": {\n",
    "        \"S3OutputPath\": \"{}\".format(s3_model_url)\n",
    "    },\n",
    "    \"StoppingCondition\": {\n",
    "        \"MaxRuntimeInSeconds\": 60 * 60\n",
    "    }\n",
    "}"
   ]
  },
  {
   "cell_type": "code",
   "execution_count": 31,
   "metadata": {},
   "outputs": [
    {
     "name": "stdout",
     "output_type": "stream",
     "text": [
      "CPU times: user 20.5 ms, sys: 0 ns, total: 20.5 ms\n",
      "Wall time: 230 ms\n"
     ]
    },
    {
     "data": {
      "text/plain": [
       "{'TrainingJobArn': 'arn:aws:sagemaker:us-east-1:002224604296:training-job/recsys-graph-train-2020-11-25-7-4-48',\n",
       " 'ResponseMetadata': {'RequestId': '2f5ca844-5e8e-4368-ac52-2e9fc385bff2',\n",
       "  'HTTPStatusCode': 200,\n",
       "  'HTTPHeaders': {'x-amzn-requestid': '2f5ca844-5e8e-4368-ac52-2e9fc385bff2',\n",
       "   'content-type': 'application/x-amz-json-1.1',\n",
       "   'content-length': '111',\n",
       "   'date': 'Wed, 25 Nov 2020 07:04:52 GMT'},\n",
       "  'RetryAttempts': 0}}"
      ]
     },
     "execution_count": 31,
     "metadata": {},
     "output_type": "execute_result"
    }
   ],
   "source": [
    "%%time\n",
    "\n",
    "# sm_session = Session()\n",
    "sm = boto3.client('sagemaker')\n",
    "sm.create_training_job(**training_params)"
   ]
  },
  {
   "cell_type": "code",
   "execution_count": 33,
   "metadata": {},
   "outputs": [
    {
     "name": "stdout",
     "output_type": "stream",
     "text": [
      "InProgress\n"
     ]
    }
   ],
   "source": [
    "status = sm.describe_training_job(TrainingJobName=TrainJobName)['TrainingJobStatus']\n",
    "print(status)"
   ]
  }
 ],
 "metadata": {
  "kernelspec": {
   "display_name": "Python [conda env:pytorch_p36]",
   "language": "python",
   "name": "conda-env-pytorch_p36-py"
  },
  "language_info": {
   "codemirror_mode": {
    "name": "ipython",
    "version": 3
   },
   "file_extension": ".py",
   "mimetype": "text/x-python",
   "name": "python",
   "nbconvert_exporter": "python",
   "pygments_lexer": "ipython3",
   "version": "3.6.10"
  }
 },
 "nbformat": 4,
 "nbformat_minor": 4
}
