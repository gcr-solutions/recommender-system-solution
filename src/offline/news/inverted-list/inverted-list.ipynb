{
 "cells": [
  {
   "cell_type": "code",
   "execution_count": 1,
   "metadata": {},
   "outputs": [
    {
     "ename": "ModuleNotFoundError",
     "evalue": "No module named 'kg'",
     "output_type": "error",
     "traceback": [
      "\u001b[0;31m---------------------------------------------------------------------------\u001b[0m",
      "\u001b[0;31mModuleNotFoundError\u001b[0m                       Traceback (most recent call last)",
      "\u001b[0;32m<ipython-input-1-ecf2e6eab20c>\u001b[0m in \u001b[0;36m<module>\u001b[0;34m\u001b[0m\n\u001b[1;32m      7\u001b[0m \u001b[0;32mimport\u001b[0m \u001b[0mos\u001b[0m\u001b[0;34m\u001b[0m\u001b[0;34m\u001b[0m\u001b[0m\n\u001b[1;32m      8\u001b[0m \u001b[0;32mimport\u001b[0m \u001b[0mnumpy\u001b[0m \u001b[0;32mas\u001b[0m \u001b[0mnp\u001b[0m\u001b[0;34m\u001b[0m\u001b[0;34m\u001b[0m\u001b[0m\n\u001b[0;32m----> 9\u001b[0;31m \u001b[0;32mimport\u001b[0m \u001b[0mkg\u001b[0m\u001b[0;34m\u001b[0m\u001b[0;34m\u001b[0m\u001b[0m\n\u001b[0m\u001b[1;32m     10\u001b[0m \u001b[0;32mimport\u001b[0m \u001b[0mencoding\u001b[0m\u001b[0;34m\u001b[0m\u001b[0;34m\u001b[0m\u001b[0m\n\u001b[1;32m     11\u001b[0m \u001b[0;32mimport\u001b[0m \u001b[0mpandas\u001b[0m \u001b[0;32mas\u001b[0m \u001b[0mpd\u001b[0m\u001b[0;34m\u001b[0m\u001b[0;34m\u001b[0m\u001b[0m\n",
      "\u001b[0;31mModuleNotFoundError\u001b[0m: No module named 'kg'"
     ]
    }
   ],
   "source": [
    "from __future__ import print_function\n",
    "import os\n",
    "import sys\n",
    "import math\n",
    "import pickle\n",
    "import boto3\n",
    "import os\n",
    "import numpy as np\n",
    "import kg\n",
    "import encoding\n",
    "import pandas as pd\n",
    "# from tqdm import tqdm\n",
    "import time\n",
    "import argparse\n",
    "import logging\n",
    "import re\n",
    "\n",
    "# tqdm.pandas()\n",
    "# pandarallel.initialize(progress_bar=True)\n",
    "# bucket = os.environ.get(\"BUCKET_NAME\", \" \")\n",
    "# raw_data_folder = os.environ.get(\"RAW_DATA\", \" \")\n",
    "\n",
    "s3client = boto3.client('s3')"
   ]
  },
  {
   "cell_type": "code",
   "execution_count": null,
   "metadata": {},
   "outputs": [],
   "source": [
    "########################################\n",
    "# 从s3同步数据\n",
    "########################################\n",
    "s3client = boto3.client('s3')\n",
    "\n",
    "\n",
    "def sync_s3(file_name_list, s3_folder, local_folder):\n",
    "    for f in file_name_list:\n",
    "        print(\"file preparation: download src key {} to dst key {}\".format(os.path.join(\n",
    "            s3_folder, f), os.path.join(local_folder, f)))\n",
    "        s3client.download_file(bucket, os.path.join(\n",
    "            s3_folder, f), os.path.join(local_folder, f))\n",
    "\n",
    "\n",
    "def write_to_s3(filename, bucket, key):\n",
    "    print(\"upload s3://{}/{}\".format(bucket, key))\n",
    "    with open(filename, 'rb') as f:  # Read in binary mode\n",
    "        # return s3client.upload_fileobj(f, bucket, key)\n",
    "        return s3client.put_object(\n",
    "            ACL='bucket-owner-full-control',\n",
    "            Bucket=bucket,\n",
    "            Key=key,\n",
    "            Body=f\n",
    "        )\n",
    "\n",
    "def write_str_to_s3(content, bucket, key):\n",
    "    print(\"write s3://{}/{}, content={}\".format(bucket, key, content))\n",
    "    s3client.put_object(Body=str(content).encode(\"utf8\"), Bucket=bucket, Key=key, ACL='bucket-owner-full-control')\n",
    "\n",
    "default_bucket = 'aws-gcr-rs-sol-workshop-ap-southeast-1-522244679887'\n",
    "default_prefix = 'sample-data'\n",
    "parser = argparse.ArgumentParser()\n",
    "parser.add_argument('--bucket', type=str, default=default_bucket)\n",
    "parser.add_argument('--prefix', type=str, default=default_prefix)\n",
    "args, _ = parser.parse_known_args()\n",
    "bucket = args.bucket\n",
    "prefix = args.prefix\n",
    "\n",
    "print(\"bucket={}\".format(bucket))\n",
    "print(\"prefix='{}'\".format(prefix))\n",
    "\n",
    "out_s3_path = \"s3://{}/{}/feature/content/inverted-list\".format(bucket, prefix)\n",
    "\n",
    "local_folder = 'info'\n",
    "if not os.path.exists(local_folder):\n",
    "    os.makedirs(local_folder)\n",
    "# 行为/物品数据同步\n",
    "file_name_list = ['action.csv']\n",
    "s3_folder = '{}/system/action-data'.format(prefix)\n",
    "sync_s3(file_name_list, s3_folder, local_folder)\n",
    "file_name_list = ['item.csv']\n",
    "s3_folder = '{}/system/item-data'.format(prefix)\n",
    "sync_s3(file_name_list, s3_folder, local_folder)"
   ]
  },
  {
   "cell_type": "code",
   "execution_count": null,
   "metadata": {},
   "outputs": [],
   "source": [
    "df_filter_item = pd.read_csv('info/item.csv',sep='_!_',names=['news_id','type_code','type','title','keywords','popularity','new'])"
   ]
  },
  {
   "cell_type": "code",
   "execution_count": null,
   "metadata": {},
   "outputs": [],
   "source": [
    "df_filter_item.head()"
   ]
  },
  {
   "cell_type": "code",
   "execution_count": null,
   "metadata": {},
   "outputs": [],
   "source": [
    "len(df_filter_item)"
   ]
  },
  {
   "cell_type": "code",
   "execution_count": null,
   "metadata": {},
   "outputs": [],
   "source": [
    "df_filter_action = pd.read_csv('info/action.csv',sep='_!_',names=['user_id','news_id','timestamp','action_type','action'])"
   ]
  },
  {
   "cell_type": "code",
   "execution_count": null,
   "metadata": {},
   "outputs": [],
   "source": [
    "df_filter_action.head()"
   ]
  },
  {
   "cell_type": "code",
   "execution_count": null,
   "metadata": {},
   "outputs": [],
   "source": [
    "df_item_stats = df_filter_action[['news_id','action_type','action']]\n",
    "df_item_stats = df_item_stats.groupby(['news_id','action_type']).sum()\n",
    "df_item_stats = df_item_stats.reset_index()\n",
    "df_item_stats['action'] = df_item_stats['action'] / df_item_stats['action'].abs().max() * 10.0\n",
    "df_item_stats = df_item_stats.drop([0])\n",
    "df_item_stats.head()"
   ]
  },
  {
   "cell_type": "code",
   "execution_count": null,
   "metadata": {},
   "outputs": [],
   "source": [
    "pd_merge_result = pd.merge(df_filter_item, df_item_stats, on=\"news_id\", how=\"left\").drop(columns=['action_type'])\n",
    "pd_merge_result = pd_merge_result.fillna(0)\n",
    "# row_has_NaN = pd_merge_result.isnull().any(axis=1)"
   ]
  },
  {
   "cell_type": "code",
   "execution_count": null,
   "metadata": {},
   "outputs": [],
   "source": [
    "pd_drop = pd_merge_result.drop(columns=['popularity']).rename(columns={\"action\":\"popularity\"})"
   ]
  },
  {
   "cell_type": "code",
   "execution_count": null,
   "metadata": {},
   "outputs": [],
   "source": [
    "pd_drop.loc[pd_drop.new == 1, 'popularity'] = 10.0\n",
    "pd_drop.loc[pd_drop.new == 1, 'new'] = 0"
   ]
  },
  {
   "cell_type": "code",
   "execution_count": null,
   "metadata": {},
   "outputs": [],
   "source": [
    "# prepare model for batch process\n",
    "os.environ['GRAPH_BUCKET'] = 'sagemaker-us-east-1-002224604296'\n",
    "os.environ['KG_DBPEDIA_KEY'] = 'recommender-system-data/model/sort/content/words/mapping/kg_dbpedia.txt'\n",
    "os.environ['KG_ENTITY_KEY'] = 'recommender-system-data/model/sort/content/words/mapping/entities_dbpedia.dict'\n",
    "os.environ['KG_RELATION_KEY'] = 'recommender-system-data/model/sort/content/words/mapping/relations_dbpedia.dict'\n",
    "os.environ['KG_ENTITY_INDUSTRY_KEY'] = 'recommender-system-data/model/sort/content/words/mapping/entity_industry.txt'\n",
    "os.environ['KG_VOCAB_KEY'] = 'recommender-system-data/model/sort/content/words/mapping/vocab.json'\n",
    "os.environ['DATA_INPUT_KEY'] = ''\n",
    "os.environ['TRAIN_OUTPUT_KEY'] = 'recommender-system-data/model/sort/content/kg/news/gw/'\n",
    "kg_path = os.environ['GRAPH_BUCKET']\n",
    "dbpedia_key = os.environ['KG_DBPEDIA_KEY']\n",
    "entity_key = os.environ['KG_ENTITY_KEY']\n",
    "relation_key = os.environ['KG_RELATION_KEY']\n",
    "entity_industry_key = os.environ['KG_ENTITY_INDUSTRY_KEY']\n",
    "vocab_key = os.environ['KG_VOCAB_KEY']\n",
    "data_input_key = os.environ['DATA_INPUT_KEY']\n",
    "train_output_key = os.environ['TRAIN_OUTPUT_KEY']\n",
    "\n",
    "env = {\n",
    "    'GRAPH_BUCKET': kg_path,\n",
    "    'KG_DBPEDIA_KEY': dbpedia_key,\n",
    "    'KG_ENTITY_KEY': entity_key,\n",
    "    'KG_RELATION_KEY': relation_key,\n",
    "    'KG_ENTITY_INDUSTRY_KEY': entity_industry_key,\n",
    "    'KG_VOCAB_KEY': vocab_key,\n",
    "    'DATA_INPUT_KEY': data_input_key,\n",
    "    'TRAIN_OUTPUT_KEY': train_output_key\n",
    "}\n",
    "graph = kg.Kg(env)  # Where we keep the model when it's loaded\n",
    "model = encoding.encoding(graph, env)"
   ]
  },
  {
   "cell_type": "code",
   "execution_count": null,
   "metadata": {},
   "outputs": [],
   "source": [
    "len(df_filter_item)"
   ]
  },
  {
   "cell_type": "code",
   "execution_count": null,
   "metadata": {},
   "outputs": [],
   "source": [
    "# generate dict_id_keywords for tfidf\n",
    "dict_keywords_id = {}\n",
    "for row in df_filter_item.iterrows():\n",
    "    item_row = row[1]\n",
    "    program_id = str(item_row['news_id'])\n",
    "    for kw in item_row['keywords'].split(','):\n",
    "        if kw not in dict_keywords_id.keys():\n",
    "            dict_keywords_id[kw] = [program_id]\n",
    "            continue\n",
    "        current_list = dict_keywords_id[kw]\n",
    "        current_list.append(program_id)\n",
    "        dict_keywords_id[kw].append(program_id)\n",
    "n_keyword_whole = len(dict_keywords_id)"
   ]
  },
  {
   "cell_type": "code",
   "execution_count": null,
   "metadata": {},
   "outputs": [],
   "source": [
    "def get_tfidf(category_property):\n",
    "    if not category_property or str(category_property).lower() in ['nan', 'nr', '']:\n",
    "        return [None]\n",
    "    if not category_property:\n",
    "        return [None]\n",
    "    value = [item.strip() for item in category_property.split(',')]\n",
    "    keywords_tfidf = {}\n",
    "    for keyword in value:\n",
    "        current_score = 1 / len(value)*math.log(n_keyword_whole / len(dict_keywords_id[keyword]))\n",
    "        keywords_tfidf[keyword] = current_score\n",
    "    return keywords_tfidf\n",
    "        \n",
    "def get_category(category_property):\n",
    "    if not category_property or str(category_property).lower() in ['nan', 'nr', '']:\n",
    "        return [None]\n",
    "    if not category_property:\n",
    "        return [None]\n",
    "    return [item.strip().lower() for item in category_property.split(',')]\n",
    "            \n",
    "def get_single_item(item):\n",
    "    if not item or str(item).lower().strip() in ['nan', 'nr', '']:\n",
    "        return [None]\n",
    "    return [str(item).lower().strip()]\n",
    "\n",
    "def get_entities(title):\n",
    "    return model[title]\n",
    "\n",
    "def single_dict(raw_dict, feat, item_id):\n",
    "    if feat not in raw_dict.keys():\n",
    "        raw_dict[feat] = [item_id]\n",
    "    else:\n",
    "        current_list = raw_dict[feat]\n",
    "        current_list.append(item_id)\n",
    "        raw_dict[feat] = current_list\n",
    "\n",
    "def list_dict(raw_dict, feat_list, item_id):\n",
    "    for feat in feat_list:\n",
    "        single_dict(raw_dict, feat, item_id)\n",
    "\n",
    "def update_popularity(item_df, action_df):\n",
    "    pd_merge_result = pd.merge(item_df, action_df, on=\"news_id\", how=\"left\").drop(columns=['action_type'])\n",
    "    pd_merge_result = pd_merge_result.fillna(0)\n",
    "    df_update = pd_merge_result.drop(columns=['popularity']).rename(columns={\"action\":\"popularity\"})\n",
    "    df_update.loc[df_update.new == 1, 'popularity'] = 10.0\n",
    "    df_update.loc[df_update.new == 1, 'new'] = 0\n",
    "    return df_update\n",
    "        \n",
    "def sort_by_score(df):\n",
    "    logging.info(\"sort_by_score() enter, df.columns: {}\".format(df.columns))\n",
    "    df['popularity'].fillna(0, inplace=True)\n",
    "\n",
    "    df['popularity_log'] = np.log1p(df['popularity'])\n",
    "    popularity_log_max = df['popularity_log'].max()\n",
    "    popularity_log_min = df['popularity_log'].min()\n",
    "\n",
    "    df['popularity_scaled'] = ((df['popularity_log'] - popularity_log_min) / (\n",
    "            popularity_log_max - popularity_log_min)) * 10\n",
    "\n",
    "    df_sorted = df.sort_values(by='popularity_scaled', ascending=False)\n",
    "    \n",
    "    df_sorted = df_sorted.drop(\n",
    "        ['popularity_log', 'popularity_scaled'], axis=1)\n",
    "\n",
    "    logging.info(\"sort_by_score() return, df.columns: {}\".format(df_sorted.columns))\n",
    "    return df_sorted\n",
    "\n",
    "def get_bucket_key_from_s3_path(s3_path):\n",
    "    m = re.match(r\"s3://(.*?)/(.*)\", s3_path)\n",
    "    return m.group(1), m.group(2)\n",
    "\n",
    "def gen_pickle_files(df, action_df):\n",
    "    df_update = update_popularity(df, action_df)\n",
    "    df_sort = sort_by_score(df_update)\n",
    "    \n",
    "    news_id_news_property_dict = {}\n",
    "    news_type_news_ids_dict = {}\n",
    "    news_keywords_news_ids_dict = {}\n",
    "    news_entities_news_ids_dict = {}\n",
    "    news_words_news_ids_dict = {}\n",
    "    \n",
    "    for row in df_sort.iterrows():\n",
    "        item_row = row[1]\n",
    "        program_id = str(item_row['news_id'])\n",
    "        current_entities = get_entities(item_row['title'])[1]\n",
    "        current_words = get_entities(item_row['title'])[0]\n",
    "        program_dict = {\n",
    "            'title': get_single_item(item_row['title']),\n",
    "            'type': get_single_item(item_row['type']),\n",
    "            'keywords': get_category(item_row['keywords']),\n",
    "            'tfidf': get_tfidf(item_row['keywords']),\n",
    "            'entities': current_entities,\n",
    "            'words': current_words\n",
    "        }\n",
    "        news_id_news_property_dict[program_id] = program_dict\n",
    "        list_dict(news_type_news_ids_dict, program_dict['type'], program_id)\n",
    "        list_dict(news_keywords_news_ids_dict, program_dict['keywords'], program_id)\n",
    "        list_dict(news_entities_news_ids_dict, program_dict['entities'], program_id)\n",
    "        list_dict(news_words_news_ids_dict, program_dict['words'], program_id)\n",
    "\n",
    "    result_dict = {\n",
    "        'news_id_news_property_dict': news_id_news_property_dict,\n",
    "        'news_type_news_ids_dict': news_type_news_ids_dict,\n",
    "        'news_keywords_news_ids_dict': news_keywords_news_ids_dict,\n",
    "        'news_entities_news_ids_dict': news_entities_news_ids_dict,\n",
    "        'news_words_news_ids_dict': news_words_news_ids_dict\n",
    "    }\n",
    "    return result_dict"
   ]
  },
  {
   "cell_type": "code",
   "execution_count": null,
   "metadata": {},
   "outputs": [],
   "source": [
    "rd = gen_pickle_files(df_filter_item, df_item_stats)"
   ]
  },
  {
   "cell_type": "code",
   "execution_count": null,
   "metadata": {},
   "outputs": [],
   "source": [
    "bucket, out_prefix = get_bucket_key_from_s3_path(out_s3_path)\n",
    "for dict_name, dict_val in rd.items():\n",
    "    file_name = f'{dict_name}.pickle'\n",
    "    # print(\"pickle =>\", file_name)\n",
    "    out_file = open(file_name, 'wb')\n",
    "    pickle.dump(dict_val, out_file)\n",
    "    out_file.close()\n",
    "    # s3_url = S3Uploader.upload(file_name, out_s3_path)\n",
    "    s3_url = write_to_s3(file_name, bucket, f'{out_prefix}/{file_name}')\n",
    "    logging.info(\"write {}\".format(s3_url))"
   ]
  },
  {
   "cell_type": "code",
   "execution_count": null,
   "metadata": {},
   "outputs": [],
   "source": [
    "n = 0\n",
    "for k, v in rd['news_id_news_property_dict'].items():\n",
    "    print(\"k {} v {}\".format(k,v))\n",
    "    if n > 10:\n",
    "        break\n",
    "    n = n + 1"
   ]
  }
 ],
 "metadata": {
  "kernelspec": {
   "display_name": "Python [conda env:pytorch_p36]",
   "language": "python",
   "name": "conda-env-pytorch_p36-py"
  },
  "language_info": {
   "codemirror_mode": {
    "name": "ipython",
    "version": 3
   },
   "file_extension": ".py",
   "mimetype": "text/x-python",
   "name": "python",
   "nbconvert_exporter": "python",
   "pygments_lexer": "ipython3",
   "version": "3.6.10"
  }
 },
 "nbformat": 4,
 "nbformat_minor": 4
}
